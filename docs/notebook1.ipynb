{
 "cells": [
  {
   "cell_type": "markdown",
   "metadata": {},
   "source": [
    "Jupyter Notebook Documentation Example\n",
    "======================================\n",
    "\n",
    "As you can see here, one can include *Jupyter* notebooks (generated e.g. with ``$ jupyter-lab``) in Sphinx documentation!\n",
    "\n",
    "This should be useful for including short example sessions that illustrate slightly more complex code usage."
   ]
  },
  {
   "cell_type": "code",
   "execution_count": 1,
   "metadata": {},
   "outputs": [
    {
     "data": {
      "text/plain": [
       "(1.0, 6.123233995736766e-17, -1.0, -1.8369701987210297e-16, 1.0)"
      ]
     },
     "execution_count": 1,
     "metadata": {},
     "output_type": "execute_result"
    }
   ],
   "source": [
    "from math import cos, pi\n",
    "cos(0.0), cos(pi / 2), cos(pi), cos(3*pi / 2), cos(2 * pi)"
   ]
  },
  {
   "cell_type": "markdown",
   "metadata": {},
   "source": [
    "Jupyter notebooks use *Markdown* syntax! Every included notebook should contain at least one heading (such that it may be reference in the table of contents). A short summary by example of syntax you can use follows:\n",
    "\n",
    "<p>This is a paragraph with *italic*, **bold** and ***italic and bold*** test.</p> Everything after this paragraph is separated from it.\n",
    "\n",
    "Use HTML line break tags like this<br>to produce line breaks very predictably.\n",
    "\n",
    "Headings use either = (H1) and - (H2) or \\# to \\#\\#\\#\\#\\#\\# (H1 to H6) indicators:\n",
    "\n",
    "### This is an H3 Heading\n",
    "\n",
    "> Block quotes require a leading \\> character :)\n",
    ">\n",
    "> They can span several paragraphs\n",
    ">> And can even be nested :O"
   ]
  },
  {
   "cell_type": "markdown",
   "metadata": {},
   "source": [
    "Ordered lists use numbers followed by a period:\n",
    "1. First item\n",
    "2. Second item\n",
    "    1. First second item\n",
    "    2. Second second item\n",
    "3. Third item\n",
    "\n",
    "For an unordered list you may choose from the following set of delimiters: {\\-, \\*, \\+}; but stay consistent within a single list!\n",
    "* Something\n",
    "* Another thing\n",
    "\n",
    "    A paragraph in between; no problem!\n",
    "\n",
    "* Last thing\n",
    "\n",
    "----------"
   ]
  },
  {
   "cell_type": "markdown",
   "metadata": {},
   "source": [
    "# Including Images in Markdown\n",
    "\n",
    "![nice_pic](./_static/images/pic1.png)"
   ]
  },
  {
   "cell_type": "markdown",
   "metadata": {},
   "source": [
    "Links are easily added like so:\n",
    "\n",
    "[Awesome University](https://www.uni-paderborn.de/)\n",
    "\n",
    "You can also turn URLs or Email addresses into links by enclosing them in angle brackets: <https://www.uni-paderborn.de/>"
   ]
  },
  {
   "cell_type": "markdown",
   "metadata": {},
   "source": [
    "## H2 Heading with Anchor Point <a name=\"head\"></a>\n",
    "\n",
    "We can reference the heading above by using an HTML anchor point: [take me to heading](#head). The same procedure works for anchor points anywhere else in your Markdown formatted text document."
   ]
  },
  {
   "cell_type": "code",
   "execution_count": null,
   "metadata": {},
   "outputs": [],
   "source": []
  }
 ],
 "metadata": {
  "kernelspec": {
   "display_name": "Python 3",
   "language": "python",
   "name": "python3"
  },
  "language_info": {
   "codemirror_mode": {
    "name": "ipython",
    "version": 3
   },
   "file_extension": ".py",
   "mimetype": "text/x-python",
   "name": "python",
   "nbconvert_exporter": "python",
   "pygments_lexer": "ipython3",
   "version": "3.6.9"
  }
 },
 "nbformat": 4,
 "nbformat_minor": 4
}
